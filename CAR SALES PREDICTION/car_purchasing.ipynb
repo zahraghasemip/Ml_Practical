{
 "cells": [
  {
   "cell_type": "markdown",
   "id": "96714cd1-d4a4-49a0-bc5b-f5b84472f48d",
   "metadata": {},
   "source": [
    "# Problem statement\n",
    "A car salesman like to develop a model to predtict the total dolar amount that customers are willing to pay given the following attributes:\n",
    "* customer name\n",
    "* customer email\n",
    "* country\n",
    "* gender\n",
    "* age\n",
    "* annual salary\n",
    "* credit card debt\n",
    "* net worth\n",
    "THE MODEL SHOULD PREDICT:\n",
    "* car purchase amount"
   ]
  },
  {
   "cell_type": "code",
   "execution_count": null,
   "id": "7fcae4a1-f88f-422e-9a1b-7fe20c600d66",
   "metadata": {},
   "outputs": [],
   "source": [
    "import pandas as pd\n",
    "import numpy as np\n",
    "import matplotlib.pyplot as plt\n",
    "import seaborn as sns"
   ]
  },
  {
   "cell_type": "code",
   "execution_count": null,
   "id": "6ba6e576-6b44-4ad7-8ea3-2f594c5214a6",
   "metadata": {},
   "outputs": [],
   "source": [
    "car_df = pd.read_csv('Car_Purchasing_Data.csv' , encoding = 'ISO-8859-1')\n",
    "car_df.head(5)"
   ]
  },
  {
   "cell_type": "code",
   "execution_count": null,
   "id": "23cb4388-a1fc-4f6f-a620-3626329f7c8b",
   "metadata": {},
   "outputs": [],
   "source": [
    "X = car_df.drop(['Customer Name' , 'Customer e-mail' , 'Country' , 'Car Purchase Amount'] , axis = 1)"
   ]
  },
  {
   "cell_type": "code",
   "execution_count": null,
   "id": "a6d1ee14-204f-4f1c-a897-7aac923d3e0d",
   "metadata": {},
   "outputs": [],
   "source": [
    "# X"
   ]
  },
  {
   "cell_type": "code",
   "execution_count": null,
   "id": "d8793b47-6987-4a7f-8bcb-537d2cded620",
   "metadata": {},
   "outputs": [],
   "source": [
    "y = car_df['Car Purchase Amount']"
   ]
  },
  {
   "cell_type": "code",
   "execution_count": null,
   "id": "9a29346b-5a39-4bde-b78d-568e4b958cb5",
   "metadata": {},
   "outputs": [],
   "source": [
    "y"
   ]
  },
  {
   "cell_type": "code",
   "execution_count": null,
   "id": "20333b9f-a22b-4ae1-aa2f-836ac31e2189",
   "metadata": {},
   "outputs": [],
   "source": [
    "X.shape"
   ]
  },
  {
   "cell_type": "code",
   "execution_count": null,
   "id": "8e8c8e6f-fda9-417d-ba8e-60c9ce40da08",
   "metadata": {},
   "outputs": [],
   "source": [
    "y.shape"
   ]
  },
  {
   "cell_type": "code",
   "execution_count": null,
   "id": "0bd9d3ec-c4ce-45dd-9cfa-2fa45d70c933",
   "metadata": {},
   "outputs": [],
   "source": [
    "from sklearn.preprocessing import MinMaxScaler\n",
    "scaler = MinMaxScaler()\n",
    "X_scaled = scaler.fit_transform(X)"
   ]
  },
  {
   "cell_type": "code",
   "execution_count": null,
   "id": "09c96e42-76de-4a01-b03a-3b0845e712f5",
   "metadata": {
    "scrolled": true
   },
   "outputs": [],
   "source": [
    "X_scaled"
   ]
  },
  {
   "cell_type": "code",
   "execution_count": null,
   "id": "1d302c15-70a5-463e-958a-3d5e0b8773c6",
   "metadata": {},
   "outputs": [],
   "source": [
    "X_scaled.shape"
   ]
  },
  {
   "cell_type": "code",
   "execution_count": null,
   "id": "df68092a-5f8e-4f79-8867-e95fe9b2b9d4",
   "metadata": {},
   "outputs": [],
   "source": [
    "scaler.data_min_"
   ]
  },
  {
   "cell_type": "code",
   "execution_count": null,
   "id": "e1684dce-e51f-40dc-a5f7-896752b9a0cc",
   "metadata": {},
   "outputs": [],
   "source": [
    "scaler.data_max_"
   ]
  },
  {
   "cell_type": "code",
   "execution_count": null,
   "id": "2fe94013-088e-4302-af15-5a3a06530530",
   "metadata": {},
   "outputs": [],
   "source": [
    "y = y.values.reshape(-1,1)"
   ]
  },
  {
   "cell_type": "code",
   "execution_count": null,
   "id": "23d4914e-bc05-4e7c-8042-0453fa00951b",
   "metadata": {},
   "outputs": [],
   "source": [
    "y.shape"
   ]
  },
  {
   "cell_type": "code",
   "execution_count": null,
   "id": "25342a23-217f-49dc-b409-6f8915eeacc7",
   "metadata": {},
   "outputs": [],
   "source": [
    "y_scaled = scaler.fit_transform(y)"
   ]
  },
  {
   "cell_type": "code",
   "execution_count": null,
   "id": "38b7014e-d38c-4997-9a5c-757ae212f4be",
   "metadata": {},
   "outputs": [],
   "source": [
    "#y_scaled"
   ]
  },
  {
   "cell_type": "code",
   "execution_count": null,
   "id": "6ec76d81-54a0-454f-b051-f9c0d23b96a5",
   "metadata": {},
   "outputs": [],
   "source": [
    "X_scaled.shape"
   ]
  },
  {
   "cell_type": "markdown",
   "id": "5b5a0ac8-aa2e-45f3-a77e-8f8fb2c7574f",
   "metadata": {},
   "source": [
    "# training the model"
   ]
  },
  {
   "cell_type": "code",
   "execution_count": null,
   "id": "e1bbd6c9-eab4-4d94-a4b8-b829052f68b3",
   "metadata": {},
   "outputs": [],
   "source": [
    "from sklearn.model_selection import train_test_split"
   ]
  },
  {
   "cell_type": "code",
   "execution_count": null,
   "id": "c764a6b8-db85-478d-9006-f2f6a29e500a",
   "metadata": {},
   "outputs": [],
   "source": [
    "X_train , X_test , y_train , y_test = train_test_split(X_scaled, y_scaled , test_size = 0.25)"
   ]
  },
  {
   "cell_type": "code",
   "execution_count": null,
   "id": "936ea08f-da6b-48df-bf5b-f883c838eabf",
   "metadata": {},
   "outputs": [],
   "source": [
    "X_train.shape"
   ]
  },
  {
   "cell_type": "code",
   "execution_count": null,
   "id": "3cd1417e-9cfd-4f6e-bf22-7a0d5bf601a5",
   "metadata": {},
   "outputs": [],
   "source": [
    "X_test.shape\n"
   ]
  },
  {
   "cell_type": "code",
   "execution_count": null,
   "id": "4b3e66d9-92fe-44ab-962c-918ce91d28fa",
   "metadata": {},
   "outputs": [],
   "source": [
    "!pip install tensorflow\n",
    "import tensorflow.keras\n",
    "from keras.models import Sequential\n",
    "from keras.layers import Dense\n",
    "\n",
    "model = Sequential()\n",
    "model.add(Dense(5, input_dim = 5, activation = 'relu'))\n",
    "model.add(Dense(5, activation = 'relu'))\n",
    "model.add(Dense(1, activation = 'linear'))"
   ]
  },
  {
   "cell_type": "code",
   "execution_count": null,
   "id": "ce818fc9-d32c-4eb7-a7f9-36ae933d135e",
   "metadata": {},
   "outputs": [],
   "source": [
    "model.summary()"
   ]
  },
  {
   "cell_type": "code",
   "execution_count": null,
   "id": "f4082213-ebeb-4488-a0b8-feb216f2aff6",
   "metadata": {},
   "outputs": [],
   "source": [
    "model.compile(optimizer = 'adam' , loss = 'mean_squared_error')\n"
   ]
  },
  {
   "cell_type": "code",
   "execution_count": null,
   "id": "8dcda378-49b6-41a2-a113-d77d7546adbb",
   "metadata": {},
   "outputs": [],
   "source": [
    "epochs_hist = model.fit(X_train, y_train, epochs = 10, batch_size = 50, verbose = 1, validation_split = 0.2)\n"
   ]
  },
  {
   "cell_type": "code",
   "execution_count": null,
   "id": "52ac07c5-fc9d-453d-8706-ed14f5d6224b",
   "metadata": {},
   "outputs": [],
   "source": [
    "epochs_hist.history.keys()"
   ]
  },
  {
   "cell_type": "code",
   "execution_count": null,
   "id": "bf2e4a17-8015-4929-a2cf-e369979018b7",
   "metadata": {},
   "outputs": [],
   "source": [
    "plt.plot(epochs_hist.history['loss'])\n",
    "plt.plot(epochs_hist.history['val_loss'])\n",
    "plt.title('model loss progress during training')\n",
    "plt.ylabel(\"Training and Validation Loss\")\n",
    "plt.xlabel('epoch number')\n",
    "plt.legend(['Training loss','Validation loss'])"
   ]
  },
  {
   "cell_type": "code",
   "execution_count": null,
   "id": "33d52197-fc78-458a-8d2c-bcd8f42219c5",
   "metadata": {},
   "outputs": [],
   "source": [
    "#Gender, Age, Annual Salary, Credit Card Debt, Net Worth\n",
    "X_test = np.array([[1, 50, 50000, 10000, 600000]])\n",
    "y_predict = model.predict(X_test)\n"
   ]
  },
  {
   "cell_type": "code",
   "execution_count": null,
   "id": "eb762fe1-b64a-4821-94fd-2caa94ff2637",
   "metadata": {},
   "outputs": [],
   "source": [
    "print('expected purchase amout', y_predict)"
   ]
  },
  {
   "cell_type": "code",
   "execution_count": null,
   "id": "315df2c7-84cd-4a08-a42f-41326a3e3e25",
   "metadata": {},
   "outputs": [],
   "source": []
  }
 ],
 "metadata": {
  "kernelspec": {
   "display_name": "base",
   "language": "python",
   "name": "python3"
  },
  "language_info": {
   "codemirror_mode": {
    "name": "ipython",
    "version": 3
   },
   "file_extension": ".py",
   "mimetype": "text/x-python",
   "name": "python",
   "nbconvert_exporter": "python",
   "pygments_lexer": "ipython3",
   "version": "3.13.5"
  }
 },
 "nbformat": 4,
 "nbformat_minor": 5
}
