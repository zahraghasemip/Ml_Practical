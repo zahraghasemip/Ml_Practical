{
 "cells": [
  {
   "cell_type": "markdown",
   "id": "19806dc2-d475-4278-b9e3-d6e7d51ebadd",
   "metadata": {},
   "source": [
    "CIFAR-10 is a data set that consists of several images divided into the following 10 classes\n",
    "airplanes\n",
    "cars\n",
    "birds\n",
    "cats\n",
    "deer\n",
    "dogs\n",
    "frogs\n",
    "horses\n",
    "ships\n",
    "trucks"
   ]
  },
  {
   "cell_type": "code",
   "execution_count": null,
   "id": "f638d560-73cd-4a89-bb9c-4e8881193356",
   "metadata": {},
   "outputs": [],
   "source": [
    "import pandas as pd\n",
    "import numpy as np\n",
    "import matplotlib.pyplot as plt\n",
    "import seaborn"
   ]
  },
  {
   "cell_type": "code",
   "execution_count": null,
   "id": "aee4c8f6-3b91-455f-9128-8c3a98bf28a6",
   "metadata": {},
   "outputs": [],
   "source": [
    "from keras.datasets import cifar10\n",
    "(X_train, y_train) , (X_test, y_test) = cifar10.load_data()"
   ]
  },
  {
   "cell_type": "code",
   "execution_count": null,
   "id": "40f95c31-1462-4fbb-a14a-087b002c6471",
   "metadata": {},
   "outputs": [],
   "source": [
    "X_train.shape"
   ]
  },
  {
   "cell_type": "code",
   "execution_count": null,
   "id": "ceefe4ef-8b30-42e1-b09e-ea06e9b10c41",
   "metadata": {},
   "outputs": [],
   "source": [
    "X_test.shape"
   ]
  },
  {
   "cell_type": "code",
   "execution_count": null,
   "id": "43fdf894-1948-4abf-8bf7-47a679c7f8e2",
   "metadata": {},
   "outputs": [],
   "source": [
    "y_train.shape"
   ]
  },
  {
   "cell_type": "code",
   "execution_count": null,
   "id": "2f7c266e-a725-44e5-b03b-b6775e26b456",
   "metadata": {},
   "outputs": [],
   "source": [
    "y_test.shape"
   ]
  },
  {
   "cell_type": "code",
   "execution_count": null,
   "id": "1d2f8f2c-585a-457a-aba5-ea0424f3c415",
   "metadata": {},
   "outputs": [],
   "source": [
    "i = 40000\n",
    "plt.imshow(X_train[i])\n",
    "# print(y_train[i])"
   ]
  },
  {
   "cell_type": "code",
   "execution_count": null,
   "id": "4e0eefbf-1152-44b4-ba25-1f1b86007b24",
   "metadata": {},
   "outputs": [],
   "source": [
    "W_grid = 15\n",
    "L_grid = 15\n",
    "fig, axes = plt.subplots(L_grid, W_grid, figsize = (25, 25))\n",
    "axes = axes.ravel()\n",
    "n_training = len(X_train)\n",
    "\n",
    "for i in np.arange(0, L_grid * W_grid):\n",
    "    index = np.random.randint(0, n_training) #pick a random number\n",
    "    axes[i].imshow(X_train[index])\n",
    "    axes[i].set_title(y_train[index])\n",
    "    axes[i].axis('off')\n",
    "\n",
    "# plt.subplots_adjust(hspace = 0.4)"
   ]
  },
  {
   "cell_type": "code",
   "execution_count": null,
   "id": "484e55f4-50ca-4657-b324-8fbc5330de46",
   "metadata": {},
   "outputs": [],
   "source": [
    "X_train = X_train.astype('float32')\n",
    "X_test = X_test.astype('float32')"
   ]
  },
  {
   "cell_type": "code",
   "execution_count": null,
   "id": "a85a565e-0c45-4777-addf-9e297bd1cda1",
   "metadata": {},
   "outputs": [],
   "source": [
    "number_cat = 10"
   ]
  },
  {
   "cell_type": "code",
   "execution_count": null,
   "id": "860af7be-3586-4c87-aec8-92ec89331be7",
   "metadata": {},
   "outputs": [],
   "source": [
    "import keras\n",
    "y_train = keras.utils.to_categorical(y_train, number_cat)\n",
    "y_test = keras.utils.to_categorical(y_test, number_cat)"
   ]
  },
  {
   "cell_type": "code",
   "execution_count": null,
   "id": "0f8ad940-d38e-431c-9176-4469df8797aa",
   "metadata": {},
   "outputs": [],
   "source": [
    "# y_test"
   ]
  },
  {
   "cell_type": "code",
   "execution_count": null,
   "id": "8160e4ab-8377-40e8-84cb-76ba8b798299",
   "metadata": {},
   "outputs": [],
   "source": [
    "X_train = X_train/255\n",
    "X_test = X_test/255"
   ]
  },
  {
   "cell_type": "code",
   "execution_count": null,
   "id": "c98bb4f2-8e17-4584-8e47-fa348a0eb4ba",
   "metadata": {},
   "outputs": [],
   "source": [
    "# X_test"
   ]
  },
  {
   "cell_type": "code",
   "execution_count": null,
   "id": "a91b7f8d-6362-47bb-b519-1550cb1c8599",
   "metadata": {},
   "outputs": [],
   "source": [
    "X_train.shape"
   ]
  },
  {
   "cell_type": "code",
   "execution_count": null,
   "id": "8679f2ee-6010-4877-983c-96094e43089b",
   "metadata": {},
   "outputs": [],
   "source": [
    "Input_shape = X_train.shape[1:]"
   ]
  },
  {
   "cell_type": "code",
   "execution_count": null,
   "id": "7c72c62d-26e5-4963-9b26-c3a00c6499be",
   "metadata": {},
   "outputs": [],
   "source": [
    "Input_shape"
   ]
  },
  {
   "cell_type": "code",
   "execution_count": null,
   "id": "6a831bc5-b744-4ec3-a65e-a6b1ad649da9",
   "metadata": {},
   "outputs": [],
   "source": [
    "from keras.models import Sequential\n",
    "from keras.layers import Conv2D, MaxPooling2D, AveragePooling2D, Dense, Flatten, Dropout\n",
    "from keras.optimizers import Adam\n",
    "from keras.callbacks import TensorBoard"
   ]
  },
  {
   "cell_type": "code",
   "execution_count": null,
   "id": "6fde12fa-2c59-4ac8-b5aa-9e6b0fe10562",
   "metadata": {},
   "outputs": [],
   "source": [
    "from keras.models import Sequential\n",
    "from keras.layers import Input, Conv2D, MaxPooling2D, Dropout, Flatten, Dense\n",
    "\n",
    "cnn_model = Sequential()\n",
    "cnn_model.add(Input(shape=Input_shape))  # Use Input layer first\n",
    "cnn_model.add(Conv2D(filters=32, kernel_size=(3,3), activation='relu'))\n",
    "cnn_model.add(Conv2D(filters=32, kernel_size=(3,3), activation='relu'))\n",
    "cnn_model.add(MaxPooling2D(2,2))\n",
    "cnn_model.add(Dropout(0.3))\n",
    "\n",
    "cnn_model.add(Conv2D(filters=64, kernel_size=(3,3), activation='relu'))\n",
    "cnn_model.add(Conv2D(filters=64, kernel_size=(3,3), activation='relu'))\n",
    "cnn_model.add(MaxPooling2D(2,2))\n",
    "cnn_model.add(Dropout(0.2))\n",
    "\n",
    "cnn_model.add(Flatten())\n",
    "cnn_model.add(Dense(units=512, activation='relu'))\n",
    "cnn_model.add(Dense(units=512, activation='relu'))\n",
    "cnn_model.add(Dense(units=10, activation='softmax'))\n"
   ]
  },
  {
   "cell_type": "code",
   "execution_count": null,
   "id": "7cfa4091-7e86-4038-8ef1-9206ac7fb485",
   "metadata": {},
   "outputs": [],
   "source": [
    "cnn_model.compile(\n",
    "    loss='categorical_crossentropy',\n",
    "    optimizer=keras.optimizers.RMSprop(learning_rate=0.001),\n",
    "    metrics=['accuracy']\n",
    ")\n"
   ]
  },
  {
   "cell_type": "code",
   "execution_count": null,
   "id": "9771c83d-17be-44dc-a1ad-24e62d80bc13",
   "metadata": {},
   "outputs": [],
   "source": [
    "cnn_model.fit(X_train, y_train, batch_size = 32, epochs = 2, shuffle = True) \n",
    "# Go through my training data twice, learning from 32 examples at a time, and shuffle the data each time."
   ]
  },
  {
   "cell_type": "code",
   "execution_count": null,
   "id": "c187ab78-6510-46dc-8cf0-f4a61d1a8a2a",
   "metadata": {},
   "outputs": [],
   "source": [
    "evaluation = cnn_model.evaluate(X_test, y_test)\n",
    "print('test accuracy: {}'.format(evaluation[1]))"
   ]
  },
  {
   "cell_type": "code",
   "execution_count": null,
   "id": "a391face-cd63-47b9-9cda-c07e3241343c",
   "metadata": {},
   "outputs": [],
   "source": [
    "predictions = cnn_model.predict(X_test)  \n",
    "predicted_classes = np.argmax(predictions, axis=1)\n",
    "predicted_classes"
   ]
  },
  {
   "cell_type": "code",
   "execution_count": null,
   "id": "5dcda7f2-995c-4a9d-97fc-61b01fef393e",
   "metadata": {},
   "outputs": [],
   "source": [
    "# y_test"
   ]
  },
  {
   "cell_type": "code",
   "execution_count": null,
   "id": "9f389e39-2f51-4eec-9264-c5914b0f0d72",
   "metadata": {},
   "outputs": [],
   "source": [
    "y_test = y_test.argmax(1)"
   ]
  },
  {
   "cell_type": "code",
   "execution_count": null,
   "id": "83f1db4f-fe31-4da4-b3ee-19d4ef0ad25a",
   "metadata": {},
   "outputs": [],
   "source": [
    "y_test"
   ]
  },
  {
   "cell_type": "code",
   "execution_count": null,
   "id": "e5aa18a9-0a14-4a98-9b17-1983924654eb",
   "metadata": {},
   "outputs": [],
   "source": [
    "L = 7\n",
    "W = 7\n",
    "fig, axes = plt.subplots(L, W, figsize = (12, 12))\n",
    "axes = axes.ravel()\n",
    "\n",
    "for i in np.arange(0, L*W):\n",
    "    axes[i].imshow(X_test[i])\n",
    "    axes[i].set_title('Prediction = {}\\n True = {}'.format(predicted_classes[i], y_test[i]))\n",
    "    axes[i].axis('off')\n",
    "# plt.subplots_adjust(wspace = 1)"
   ]
  },
  {
   "cell_type": "code",
   "execution_count": null,
   "id": "672183aa-4868-4b2e-b0e8-68a6fdeb1fba",
   "metadata": {},
   "outputs": [],
   "source": [
    "from sklearn.metrics  import confusion_matrix\n",
    "import seaborn as sns\n",
    "cm = confusion_matrix(y_test, predicted_classes)\n",
    "cm\n",
    "plt.figure(figsize = (10, 10))\n",
    "sns.heatmap(cm, annot = True)"
   ]
  },
  {
   "cell_type": "code",
   "execution_count": null,
   "id": "f9ab76c9-c5e3-4fc8-aa92-4799a4db09a9",
   "metadata": {},
   "outputs": [],
   "source": [
    "# import os\n",
    "# directory = os.path.join(os.getcwd(), 'saved_models')\n",
    "\n",
    "# if not os.path.isdir(directory):\n",
    "#     os.makedirs(directory)\n",
    "# model_path = os.path.join(directory, 'keras_cifar10_trained_model.keras')\n",
    "# cnn_model.save(model_path)"
   ]
  }
 ],
 "metadata": {
  "kernelspec": {
   "display_name": "Python [conda env:base] *",
   "language": "python",
   "name": "conda-base-py"
  },
  "language_info": {
   "codemirror_mode": {
    "name": "ipython",
    "version": 3
   },
   "file_extension": ".py",
   "mimetype": "text/x-python",
   "name": "python",
   "nbconvert_exporter": "python",
   "pygments_lexer": "ipython3",
   "version": "3.13.5"
  }
 },
 "nbformat": 4,
 "nbformat_minor": 5
}
